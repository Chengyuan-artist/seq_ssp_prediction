{
 "cells": [
  {
   "cell_type": "code",
   "execution_count": 24,
   "metadata": {},
   "outputs": [],
   "source": [
    "import os\n",
    "import pickle\n",
    "import numpy as np\n",
    "\n",
    "from sklearn.model_selection import KFold\n",
    "\n",
    "import torch\n",
    "from torch.utils.data import Dataset\n",
    "from torch.utils.data import DataLoader\n",
    "from torch.utils.data import SubsetRandomSampler\n",
    "import torch.nn.functional as F\n",
    "\n",
    "\n",
    "from networks.mlp import MLP\n"
   ]
  },
  {
   "cell_type": "code",
   "execution_count": 3,
   "metadata": {},
   "outputs": [
    {
     "data": {
      "text/plain": [
       "{'seq': 'AQVINTFDGVADYLQTYHKLPDNYITKSEAQALGWVASKGNLADVAPGKSIGGDIFSNREGKLPGKSGRTWREADINYTSGFRNSDRILYSSDWLIYKTTDHYQTFTKIR',\n",
       " 'ssp': 'CCCCCCHHHHHHHHHHHCCCCCCEECHHHHHHHCCCHHHCCHHHHCCCCEEEEEEECCCCCCCCCCCCCCEEEEECCCCCCCCCCCEEEEECCCCEEEECCCCCCCEECC'}"
      ]
     },
     "execution_count": 3,
     "metadata": {},
     "output_type": "execute_result"
    }
   ],
   "source": [
    "protein_seq = pickle.load(open('assignment1_data/d1a2pa_.pkl', 'rb'))\n",
    "protein_seq"
   ]
  },
  {
   "cell_type": "code",
   "execution_count": 32,
   "metadata": {},
   "outputs": [
    {
     "data": {
      "text/plain": [
       "135"
      ]
     },
     "execution_count": 32,
     "metadata": {},
     "output_type": "execute_result"
    }
   ],
   "source": [
    "len(protein_seqs[2]['seq'])"
   ]
  },
  {
   "cell_type": "code",
   "execution_count": 8,
   "metadata": {},
   "outputs": [
    {
     "name": "stdout",
     "output_type": "stream",
     "text": [
      "file number: 3000 \tprotein number: 3000\n"
     ]
    }
   ],
   "source": [
    "protein_seqs = []\n",
    "\n",
    "data_source = os.listdir('assignment1_data')\n",
    "for file in data_source:\n",
    "    if file.endswith('.pkl'):\n",
    "        protein_seq = pickle.load(open('assignment1_data/' + file, 'rb'))\n",
    "        protein_seqs.append(protein_seq)\n",
    "print('file number:', len(data_source), '\\tprotein number:', len(protein_seqs))"
   ]
  },
  {
   "cell_type": "code",
   "execution_count": 17,
   "metadata": {},
   "outputs": [
    {
     "name": "stdout",
     "output_type": "stream",
     "text": [
      "data number: 3000 \tlabel number: 3000\n"
     ]
    }
   ],
   "source": [
    "data = []\n",
    "label = []\n",
    "\n",
    "for sequence in protein_seqs:\n",
    "    seq, ssp = sequence['seq'], sequence['ssp']\n",
    "    data.append(seq)\n",
    "    label.append(ssp)\n",
    "print('data number:', len(data), '\\tlabel number:', len(label))"
   ]
  },
  {
   "cell_type": "code",
   "execution_count": 22,
   "metadata": {},
   "outputs": [
    {
     "name": "stdout",
     "output_type": "stream",
     "text": [
      "X_train: (2400,) \tX_test: (600,) \ty_train: (2400,) \ty_test: (600,)\n",
      "X_train: (2400,) \tX_test: (600,) \ty_train: (2400,) \ty_test: (600,)\n",
      "X_train: (2400,) \tX_test: (600,) \ty_train: (2400,) \ty_test: (600,)\n",
      "X_train: (2400,) \tX_test: (600,) \ty_train: (2400,) \ty_test: (600,)\n",
      "X_train: (2400,) \tX_test: (600,) \ty_train: (2400,) \ty_test: (600,)\n"
     ]
    }
   ],
   "source": [
    "X = np.array(data)\n",
    "y = np.array(label)\n",
    "kf = KFold(n_splits=5, shuffle=True, random_state=42)\n",
    "for train_index, test_index in kf.split(X):\n",
    "    X_train, X_test = X[train_index], X[test_index]\n",
    "    y_train, y_test = y[train_index], y[test_index]\n",
    "    print('X_train:', X_train.shape, '\\tX_test:', X_test.shape, '\\ty_train:', y_train.shape, '\\ty_test:', y_test.shape)\n",
    "    # print('y_train:', y_train, '\\ty_test:', y_test)\n",
    "    # break"
   ]
  },
  {
   "cell_type": "code",
   "execution_count": 27,
   "metadata": {},
   "outputs": [],
   "source": [
    "batch_size = 32\n",
    "\n",
    "class ProteinDataset(Dataset):\n",
    "    \n",
    "    def __init__(self, seq_dir):\n",
    "        self.protein_seqs = []\n",
    "        self.seq_dir = seq_dir\n",
    "        data_source = os.listdir(seq_dir)\n",
    "        for file in data_source:\n",
    "            if file.endswith('.pkl'):\n",
    "                protein_seq = pickle.load(open(os.path.join(seq_dir, file), 'rb'))\n",
    "                self.protein_seqs.append(protein_seq)\n",
    "\n",
    "    def __len__(self):\n",
    "        return len(self.protein_seqs)\n",
    "\n",
    "    def __getitem__(self, idx):\n",
    "        sequence = self.protein_seqs[idx]\n",
    "        seq, ssp = sequence['seq'], sequence['ssp']\n",
    "        return seq, ssp\n",
    "        \n",
    "\n",
    "dataset = ProteinDataset(seq_dir='assignment1_data')\n",
    "\n",
    "# for i in range(5):\n",
    "num_train = len(dataset)\n",
    "split = int(np.floor(0.2 * num_train))\n",
    "indices = list(range(num_train))\n",
    "np.random.shuffle(indices)\n",
    "\n",
    "train_idx, valid_idx = indices[split:], indices[:split]\n",
    "train_sampler = SubsetRandomSampler(train_idx)\n",
    "valid_sampler = SubsetRandomSampler(valid_idx)\n",
    "\n",
    "train_loader = DataLoader(dataset, batch_size=batch_size, sampler=train_sampler)\n",
    "valid_loader = DataLoader(dataset, batch_size=batch_size, sampler=valid_sampler)\n",
    "\n",
    "def set_model():\n",
    "    model = MLP()\n",
    "    cristerion = F.cross_entropy()\n",
    "\n",
    "    # enable synchronized Batch Normalization\n",
    "    if opt.syncBN:\n",
    "        model = apex.parallel.convert_syncbn_model(model)\n",
    "\n",
    "    if torch.cuda.is_available():\n",
    "        if torch.cuda.device_count() > 1:\n",
    "            model.encoder = torch.nn.DataParallel(model.encoder)\n",
    "        model = model.cuda()\n",
    "        criterion = criterion.cuda()\n",
    "        cudnn.benchmark = True\n",
    "\n",
    "    return model, criterion\n"
   ]
  }
 ],
 "metadata": {
  "kernelspec": {
   "display_name": "bio_lover",
   "language": "python",
   "name": "python3"
  },
  "language_info": {
   "codemirror_mode": {
    "name": "ipython",
    "version": 3
   },
   "file_extension": ".py",
   "mimetype": "text/x-python",
   "name": "python",
   "nbconvert_exporter": "python",
   "pygments_lexer": "ipython3",
   "version": "3.12.2"
  }
 },
 "nbformat": 4,
 "nbformat_minor": 2
}
